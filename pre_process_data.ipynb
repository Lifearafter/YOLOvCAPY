{
 "cells": [
  {
   "cell_type": "markdown",
   "metadata": {},
   "source": [
    "Add Label information to labels folder in train, test and validation folders"
   ]
  },
  {
   "cell_type": "code",
   "execution_count": 26,
   "metadata": {},
   "outputs": [
    {
     "name": "stdout",
     "output_type": "stream",
     "text": [
      "c:\\Zaid\\Fun_Projects_Code\\ACM_Research\\Model\\YOLOvCAPY\\CustomizeFlirDataset\\jsontoyolo\n"
     ]
    }
   ],
   "source": [
    "%cd ..\\CustomizeFlirDataset\\jsontoyolo\n",
    "!python convert.py --file ..\\demo\\train\\ --output ..\\..\\train\\labels\n",
    "!python convert.py --file ..\\demo\\val\\ --output ..\\..\\val\\labels\n",
    "!python convert.py --file ..\\demo\\test\\ --output ..\\..\\test\\labels"
   ]
  },
  {
   "cell_type": "markdown",
   "metadata": {},
   "source": [
    "Move images from images_thermal_train to train folder\n",
    "\n",
    "Move images from images_thermal_test to test folder\n",
    "\n",
    "Move images from images_thermal_val to validation folder"
   ]
  },
  {
   "cell_type": "markdown",
   "metadata": {},
   "source": [
    "Change ./yolov7-custom/data/custom.yaml file to include paths of train, test and validation folders (absolute paths)"
   ]
  },
  {
   "cell_type": "markdown",
   "metadata": {},
   "source": [
    "Train the model"
   ]
  },
  {
   "cell_type": "code",
   "execution_count": 23,
   "metadata": {},
   "outputs": [
    {
     "name": "stdout",
     "output_type": "stream",
     "text": [
      "c:\\Zaid\\Fun_Projects_Code\\ACM_Research\\Model\\YOLOvCAPY\\yolov7-custom\n",
      " Volume in drive C is Windows\n",
      " Volume Serial Number is B426-88EF\n",
      "\n",
      " Directory of c:\\Zaid\\Fun_Projects_Code\\ACM_Research\\Model\\YOLOvCAPY\\yolov7-custom\n",
      "\n",
      "11/20/2022  06:51 PM    <DIR>          .\n",
      "11/20/2022  06:51 PM    <DIR>          ..\n",
      "11/19/2022  03:50 PM             4,062 .gitignore\n",
      "11/20/2022  05:58 PM    <DIR>          cfg\n",
      "11/20/2022  06:47 PM    <DIR>          data\n",
      "11/20/2022  05:58 PM    <DIR>          deploy\n",
      "11/19/2022  03:50 PM             9,327 detect.py\n",
      "11/19/2022  03:50 PM             9,162 export.py\n",
      "11/20/2022  05:58 PM    <DIR>          figure\n",
      "11/19/2022  03:50 PM             3,583 hubconf.py\n",
      "11/20/2022  05:58 PM    <DIR>          inference\n",
      "11/19/2022  03:50 PM            35,149 LICENSE.md\n",
      "11/20/2022  05:58 PM    <DIR>          models\n",
      "11/20/2022  05:58 PM    <DIR>          paper\n",
      "11/19/2022  03:50 PM            12,877 README.md\n",
      "11/19/2022  03:50 PM               950 requirements.txt\n",
      "11/20/2022  05:58 PM    <DIR>          scripts\n",
      "11/19/2022  03:50 PM            17,281 test.py\n",
      "11/20/2022  05:58 PM    <DIR>          tools\n",
      "11/19/2022  03:50 PM            38,033 train.py\n",
      "11/19/2022  03:50 PM            37,435 train_aux.py\n",
      "11/20/2022  05:58 PM    <DIR>          utils\n",
      "11/20/2022  05:58 PM    <DIR>          yolov7-main\n",
      "11/20/2022  06:51 PM        75,587,165 yolov7.pt\n",
      "              11 File(s)     75,755,024 bytes\n",
      "              13 Dir(s)  238,182,993,920 bytes free\n"
     ]
    }
   ],
   "source": [
    "%cd ..\\..\\yolov7-custom\n",
    "!python train.py --img 640 --batch 16 --epochs 100 --data \\data\\custom.yaml --cfg cfg\\yolov7-custom.cfg --weights yolov7.pt --name yolov7-custom --cache-images --device cpu --workers 16 --hyp \\data\\hyp.scratch.custom.yaml"
   ]
  }
 ],
 "metadata": {
  "kernelspec": {
   "display_name": "Python 3.11.0 ('.venv': venv)",
   "language": "python",
   "name": "python3"
  },
  "language_info": {
   "codemirror_mode": {
    "name": "ipython",
    "version": 3
   },
   "file_extension": ".py",
   "mimetype": "text/x-python",
   "name": "python",
   "nbconvert_exporter": "python",
   "pygments_lexer": "ipython3",
   "version": "3.11.0"
  },
  "orig_nbformat": 4,
  "vscode": {
   "interpreter": {
    "hash": "de109fd05ca13ba03d34c656b7df09cafdbfbe47c03aa7eba7baab5bfaa6631b"
   }
  }
 },
 "nbformat": 4,
 "nbformat_minor": 2
}
